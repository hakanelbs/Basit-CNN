{
 "cells": [
  {
   "cell_type": "code",
   "execution_count": 1,
   "metadata": {},
   "outputs": [],
   "source": [
    "import numpy as np\n",
    "import h5py\n",
    "import matplotlib.pyplot as plt\n",
    "\n",
    "plt.rcParams[\"figure.figsize\"] = (5.0 , 4.0)\n",
    "plt.rcParams[\"image.interpolation\"] = \"nearest\"\n",
    "plt.rcParams[\"image.cmap\"] = \"gray\"\n",
    "\n",
    "np.random.seed(1) #yukardaki değerleri tutmaya çalıştık"
   ]
  },
  {
   "cell_type": "markdown",
   "metadata": {},
   "source": [
    "### Piksel Ekleme (Padding) Fonksiyonunun Tanımlanması\n",
    "\"\"\"\n",
    "Veri kümesinin X'in tüm görüntülerini sıfırlarla doldurun. Padding , görüntünün yüksekliğine ve genişliğine uygulanır.\n",
    "     \n",
    "   Bağımsız değişken:\n",
    "    * X :    - m resim grubunu temsil eden python numpy şekil dizisi (m, n_H, n_W, n_C)\n",
    "    * pad:  - integer, dikey ve yatay boyutlarda her görüntünün etrafındaki padding  miktarı\n",
    "  *Return:\n",
    "    * X_pad: şeklin paddingli görüntüsü (m, n_H + 2 * pad, n_W + 2 * pad, n_C)"
   ]
  },
  {
   "cell_type": "code",
   "execution_count": 2,
   "metadata": {},
   "outputs": [],
   "source": [
    "def zero_pad(X, pad):  \n",
    "    \n",
    "    X_pad = np.pad(X, ((0,0), (pad, pad), (pad,pad), (0,0)), 'constant',  constant_values = 0)  #(≈ 1 line)\n",
    "    \n",
    "    return X_pad"
   ]
  },
  {
   "cell_type": "code",
   "execution_count": 3,
   "metadata": {},
   "outputs": [
    {
     "name": "stdout",
     "output_type": "stream",
     "text": [
      "x.shape = (4, 3, 3, 2)\n",
      "x_pad.shape = (4, 7, 7, 2)\n",
      "x[1,1] = [[ 0.90085595 -0.68372786]\n",
      " [-0.12289023 -0.93576943]\n",
      " [-0.26788808  0.53035547]]\n",
      "x_pad[1,1] = [[0. 0.]\n",
      " [0. 0.]\n",
      " [0. 0.]\n",
      " [0. 0.]\n",
      " [0. 0.]\n",
      " [0. 0.]\n",
      " [0. 0.]]\n"
     ]
    },
    {
     "data": {
      "text/plain": [
       "<matplotlib.image.AxesImage at 0x1debe4da7c8>"
      ]
     },
     "execution_count": 3,
     "metadata": {},
     "output_type": "execute_result"
    },
    {
     "data": {
      "image/png": "[encoded data removed]",
      "text/plain": [
       "<Figure size 432x288 with 2 Axes>"
      ]
     },
     "metadata": {
      "needs_background": "light"
     },
     "output_type": "display_data"
    }
   ],
   "source": [
    "#Piksel ekleme sonucunu görselleştirme\n",
    "    \n",
    "np.random.seed(1)\n",
    "x = np.random.randn(4, 3, 3, 2)    #Random 4 x 3 x 3 2 lik bir matris oluşturduk\n",
    "x_pad = zero_pad(x, 2)             #x,2 lik bir zero padding işlemi yaptık\n",
    "\n",
    "print (\"x.shape =\", x.shape)\n",
    "print (\"x_pad.shape =\", x_pad.shape)\n",
    "print (\"x[1,1] =\", x[1,1])\n",
    "print (\"x_pad[1,1] =\", x_pad[1,1])\n",
    "\n",
    "fig, axarr = plt.subplots(1, 2)\n",
    "axarr[0].set_title('x')\n",
    "axarr[0].imshow(x[0,:,:,0])\n",
    "axarr[1].set_title('x_pad')\n",
    "axarr[1].imshow(x_pad[0,:,:,0])"
   ]
  },
  {
   "cell_type": "markdown",
   "metadata": {},
   "source": [
    "### Bir evrişim işleminin tanımlanması\n",
    "\n",
    "* çıkış aktivasyonunun tek bir dilimine (a_slice_prev) önceki katmanın W parametreleri \n",
    "tarafından tanımlanan  bir filtre uygulayın \n",
    "\n",
    "* Argümanlar:\n",
    "\n",
    " * a_slice_prev - şeklin giriş verilerinin dilim (f, f, n_C_prev)\n",
    " * W - Bir pencerede bulunan ağırlık parametreleri - şekil matrisi (f, f, n_C_prev)\n",
    " * b - Bir pencerede bulunan yanlılık parametreleri - şekil matrisi (1, 1, 1)\n",
    "* Returns:\n",
    "\n",
    "  * Z - skaler bir değer, sürgülü pencerenin (W, b) giriş verilerinin bir dilimine x döndürülmesinin sonucu"
   ]
  },
  {
   "cell_type": "code",
   "execution_count": 4,
   "metadata": {},
   "outputs": [
    {
     "name": "stdout",
     "output_type": "stream",
     "text": [
      "Z = -6.999089450680221\n"
     ]
    }
   ],
   "source": [
    "def conv_single_step(a_slince_prev, W , b):\n",
    "    s = np.multiply(a_slince_prev, W )             # (≈ 2 lines of code)\n",
    "    Z = np.sum(s)\n",
    "    Z = float(b)+Z\n",
    "    return Z\n",
    "\n",
    "\n",
    "# Z = x.W + b sonunun Hesaplanması\n",
    "    \n",
    "np.random.seed(1) \n",
    "a_slice_prev = np.random.randn(4, 4, 3)   \n",
    "W = np.random.randn(4,4,3)\n",
    "b = np.random.randn(1, 1, 1)\n",
    "\n",
    "Z = conv_single_step(a_slice_prev, W, b)\n",
    "print(\"Z =\", Z)"
   ]
  },
  {
   "cell_type": "markdown",
   "metadata": {},
   "source": [
    "### İleri Yayılım Algoritması için fonksiyon tanımlayalım...\n",
    "\n",
    "\n",
    "Bir evrişim fonksiyonu için ileriye doğru yayılımı uygular\n",
    "     \n",
    "* Argümanlar:\n",
    "*     A_prev - önceki katmanın çıktı aktivasyonları, sayısal şekil dizisi (m, n_H_prev, n_W_prev, n_C_prev)\n",
    " *    W -      Ağırlıklar, sayısal şekil dizisi (f, f, n_C_prev, n_C)\n",
    "  *   b -      Sapmalar, sayısal şekil dizisi (1, 1, 1, n_C)\n",
    "   *  hparametreler - \"stride\" ve \"pad\" içeren python sözlük\n",
    "   \n",
    "* Returns:\n",
    "     * Z - dönş. Çıktı, sayısal şekil dizisi (m, n_H, n_W, n_C)\n",
    "     * cache -geri yayılım için hafızaya almamız lazım\n"
   ]
  },
  {
   "cell_type": "code",
   "execution_count": 5,
   "metadata": {},
   "outputs": [
    {
     "name": "stdout",
     "output_type": "stream",
     "text": [
      "Z'nin ortalama = 0.048995203528855794\n",
      "Z[3, 2, 1] = [-0.61490741 -6.7439236  -2.55153897  1.75698377  3.56208902  0.53036437\n",
      "  5.18531798  8.75898442]\n",
      "cache_conv[0][1][2][3] = [-0.20075807  0.18656139  0.41005165]\n"
     ]
    }
   ],
   "source": [
    "def conv_forward(A_prev, W, b, hparameters):\n",
    "                                                      # Boyutları A_prev'in şeklinden al (≈1 Line)\n",
    "    (m, n_H_prev, n_W_prev, n_C_prev) = A_prev.shape  # n önceki matris, H- Yükseklik, W - Genişlik, C- Kanal Sayısı\n",
    "   \n",
    "                                                      ## Boyutları W şeklinden al (≈1 Line)\n",
    "    (f, f, n_C_prev, n_C) = W.shape                   # kanal sayısı aynı olmak zorunda\n",
    "    \n",
    "  \n",
    "    stride = hparameters['stride']                    # \"Hparametrelerden\" bilgi al (≈2 Line)\n",
    "    pad = hparameters['pad']\n",
    "  \n",
    "    n_H = int(((n_H_prev-f+2*pad)/stride)+1)          # Evrişimin Çıkış Boyutu Tanımlanıyor\n",
    "    n_W = int(((n_W_prev-f+2*pad)/stride)+1)          #(≈2 Line)\n",
    "    \n",
    "    Z = np.zeros([m,n_H,n_W,n_C])      # (≈1 Line)    #Z çıkış seviyesini sıfırlarla başlatın\n",
    "    \n",
    " \n",
    "    A_prev_pad = zero_pad(A_prev, pad)\n",
    "    \n",
    "    for i in range(m):                      # Eğitim örneği üzerinde döngü                       \n",
    "        a_prev_pad = A_prev_pad[i]          # Eğitim örnekleri ile paddingli aktivasyon seçin\n",
    "        \n",
    "        for h in range(n_H):               # Çıkış  dikey ekseni üzerinde döngü              \n",
    "            for w in range(n_W):           # Çıkış  yatay ekseni üzerinde döngü        \n",
    "                for c in range(n_C):       # Çıkış  filtreler ekseni üzerinde döngü     \n",
    "                    \n",
    "                    # Mevcut \"dilimin\" köşelerini bulun (≈4 lines)\n",
    "                    \n",
    "                    vert_start = h*stride\n",
    "                    vert_end = vert_start + f\n",
    "                    horiz_start = w*stride\n",
    "                    horiz_end = horiz_start + f\n",
    "                    \n",
    "                    \n",
    "                    # A_prev_pad'in (3D) dilimini tanımlamak   (≈1 line)\n",
    "\n",
    "                    a_slice_prev = a_prev_pad[vert_start:vert_end, horiz_start:horiz_end]\n",
    "                    \n",
    "                   \n",
    "                    # Bir çıkış nöronunu geri almak için (3D) \n",
    "                    # dilimi doğru filtre W ve b biasıyla birleştirin.  (≈1 line)\n",
    "                    # Evrişim işlemi Gerçekleşiyor\n",
    "                    \n",
    "                    Z[i, h, w, c] = conv_single_step(a_slice_prev, W[...,c], b[...,c])\n",
    "                                            \n",
    "   \n",
    "    assert(Z.shape == (m, n_H, n_W, n_C)) # çıkış değerinin doğruluğunu kontrol edelim\n",
    "    \n",
    "   \n",
    "    cache = (A_prev, W, b, hparameters) #geriye yayılım için bu değerlerin saklanması gerek\n",
    "                                        #sakla\n",
    "                                        \n",
    "    \n",
    "    return Z, cache\n",
    "\n",
    "np.random.seed(1)\n",
    "A_prev = np.random.randn(10, 4, 4, 3)\n",
    "W = np.random.randn(2, 2, 3, 8)\n",
    "b = np.random.randn(1, 1, 1, 8)\n",
    "\n",
    "hparameters = {\"pad\" :2,\n",
    "              \"stride\" :2}\n",
    "\n",
    "Z, cache_conv = conv_forward(A_prev, W, b, hparameters)\n",
    "\n",
    "print(\"Z'nin ortalama =\", np.mean(Z))\n",
    "print(\"Z[3, 2, 1] =\", Z[3, 2, 1])\n",
    "print(\"cache_conv[0][1][2][3] =\", cache_conv[0][1][2][3])"
   ]
  },
  {
   "cell_type": "markdown",
   "metadata": {},
   "source": [
    "### Ortaklama katmanı\n",
    "\n",
    "Ortaklama katmanının ileri geçişini uygular\n",
    " * Argümanlar:\n",
    " *    A_prev        - Giriş verileri, sayısal şekil dizisi (m, n_H_prev, n_W_prev, n_C_prev)\n",
    "  *   hparametreler - \"f\" ve \"stride\" içeren python sözlük\n",
    "   *  mode          -kullanmak istediğiniz Ortaklama modu \n",
    "        (dize (\"maks\" veya \"ortalama\") olarak tanımlanır)\n",
    " * Returns:\n",
    "    \n",
    "     * A -     Ortaklama katmanının çıktısı, sayısal bir şekil dizisi (m, n_H, n_W, n_C)\n",
    "     * Cache - Ortaklama katmanının geriye doğru geçişinde kullanılan önbellek, \n",
    "        girişi ve hparametreleri içerir"
   ]
  },
  {
   "cell_type": "code",
   "execution_count": 6,
   "metadata": {},
   "outputs": [
    {
     "name": "stdout",
     "output_type": "stream",
     "text": [
      "mod = max\n",
      "A=  [[[[1.74481176 0.86540763 1.13376944]]]\n",
      "\n",
      "\n",
      " [[[1.13162939 1.51981682 2.18557541]]]]\n",
      "mod = average\n",
      "A = [[[[ 0.02105773 -0.20328806 -0.40389855]]]\n",
      "\n",
      "\n",
      " [[[-0.22154621  0.51716526  0.48155844]]]]\n"
     ]
    }
   ],
   "source": [
    "def pool_forward(A_prev, hparameters,mode = \"max\"):\n",
    "  \n",
    "  (m, n_H_prev, n_W_prev, n_C_prev) = A_prev.shape   #Giriş Değerlerinin boyutlarını tanımdadık\n",
    "                                                     #\n",
    "  \n",
    "  f = hparameters[\"f\"]                               # hparametersleri tanımladık\n",
    "  stride = hparameters[\"stride\"]\n",
    "   \n",
    "  n_H = int(1 + (n_H_prev -f)/ stride)               # Padding uygulanan, Ortaklama yapılcak\n",
    "  n_W = int(1 + (n_W_prev -f)/ stride)               #  Çıktının boyutlarını tanımlayın\n",
    "  n_C = n_C_prev                                                   \n",
    "  \n",
    "  \n",
    "  A = np.zeros((m, n_H, n_W, n_C))    # A matrisini tanımlayın\n",
    "  \n",
    "  for i in range(m):                  # eğitim örnekleri üzerinde döngü\n",
    "    for h in range(n_H):              # Çıkış  dikey ekseni üzerinde döngü           \n",
    "      for w in range(n_W):            # Çıkış  yatay ekseni üzerinde döngü \n",
    "        for c in range(n_C):          # Çıkış  filtreler ekseni üzerinde döngü  \n",
    "          \n",
    "            # Mevcut \"dilimin\" köşelerini bulun (≈4 lines)\n",
    "          vert_start = h*stride\n",
    "          vert_end = vert_start +f\n",
    "          horiz_start = w*stride\n",
    "          horiz_end = horiz_start +f\n",
    "          \n",
    "          # KAnal sayısı ve C (filtreler )kullanalırak hesaplanacak\n",
    "          a_prev_slice = A_prev[i, vert_start:vert_end, horiz_start:horiz_end, c]\n",
    "          \n",
    "          # Dilim üzerindeki ortaklama işlemini hesaplayın. \n",
    "          if mode == \"max\":\n",
    "            A[i,h, w, c] = np.max(a_prev_slice)\n",
    "          elif mode == \"average\":\n",
    "            A[i,h, w, c] = np.mean(a_prev_slice)\n",
    "    \n",
    "  # Girdi ve hparametreleri pool_backward için \"cache\" de saklayın ()        \n",
    "  cache = (A_prev, hparameters)\n",
    "  \n",
    "  assert(A.shape == (m, n_H, n_W, n_C))   #doğrulama\n",
    "  \n",
    "  return A, cache\n",
    "    \n",
    "\n",
    "\n",
    "np.random.seed(1)\n",
    "\n",
    "A_prev = np.random.randn(2, 4, 4, 3)\n",
    "hparameters = {\"stride\" : 2, \"f\" :3}\n",
    "\n",
    "A, cache = pool_forward(A_prev, hparameters)\n",
    "\n",
    "print(\"mod = max\")\n",
    "print(\"A= \", A)\n",
    "\n",
    "A, cache = pool_forward(A_prev, hparameters, mode = \"average\")\n",
    "\n",
    "print(\"mod = average\")\n",
    "print(\"A =\", A)"
   ]
  },
  {
   "cell_type": "markdown",
   "metadata": {},
   "source": [
    "### Geriye Yayılım Algoritması için Fonksiyon Tanımlayalım!\n",
    "\n",
    "Bir evrişim fonksiyonu için geriye doğru yayılım uygulamak. Türev alarak\n",
    "     \n",
    " * Argümanlar:\n",
    " *    dZ - döngü katmanının (Z), sayısal şekil dizisinin (m, n_H, n_W, n_C) çıktısına göre maliyetin gradyanı\n",
    "  *   cache - conv_backward () için gereken değerlerin önbelleği, conv_forward () çıktısı\n",
    "  \n",
    "* Returns:\n",
    "\n",
    "    * dA_prev - döngü katmanının (A_prev) girdisine göre maliyetin gradyanı,numpy şekil dizisi \n",
    "            (m, n_H_prev, n_W_prev, n_C_prev)\n",
    "    * dW - döngü tabakasının, (W) ağırlıklarına göre maliyetin gradyanı\n",
    "           sayısal şekil dizisi (f, f, n_C_prev, n_C)\n",
    "    * db - dönüşümlü katmanın (b) sapmalarına göre maliyetin gradyanı\n",
    "           sayısal şekil dizisi (1, 1, 1, n_C)\n",
    "     "
   ]
  },
  {
   "cell_type": "code",
   "execution_count": 7,
   "metadata": {},
   "outputs": [
    {
     "name": "stdout",
     "output_type": "stream",
     "text": [
      "dA ortalama = 0.6347704472654743\n",
      "dW ortalama = 1.5572657428497354\n",
      "db ortalama = 7.839232564616838\n"
     ]
    }
   ],
   "source": [
    "def conv_backward(dZ, cache):\n",
    "    \n",
    "    \n",
    "    \n",
    "    (A_prev, W, b, hparameters) = cache                 #Cache'den bilgi alma\n",
    "    \n",
    "   \n",
    "    (m, n_H_prev, n_W_prev, n_C_prev) = A_prev.shape    # A_prev'den bilşgi alma\n",
    "    \n",
    " \n",
    "    (f, f, n_C_prev, n_C) = W.shape                     # W'leri almak\n",
    "    \n",
    "   \n",
    "    stride = hparameters['stride']                      # \"Hparametreler\" den bilgi alma\n",
    "    pad = hparameters['pad']\n",
    "    \n",
    "\n",
    "    (m, n_H, n_W, n_C) = dZ.shape                       # Boyutları dZ'nin şeklinden alma\n",
    "    \n",
    "    \n",
    "    # DA_prev, dW, db'yi oluştur\n",
    "    dA_prev = np.zeros((m, n_H_prev, n_W_prev, n_C_prev))                           \n",
    "    dW = np.zeros((f,f, n_C_prev, n_C))\n",
    "    db = np.zeros((1, 1, 1, n_C))\n",
    "\n",
    "   \n",
    "    A_prev_pad = zero_pad(A_prev, pad)\n",
    "    dA_prev_pad = zero_pad(dA_prev, pad)\n",
    "    \n",
    "    \n",
    "    # eğitim örnekleri üzerinde döngü\n",
    "    for i in range(m):                       \n",
    "        \n",
    "        # A_prev_pad and dA_prev_pad eğitim için seçin\n",
    "        \n",
    "        a_prev_pad = A_prev_pad[i]\n",
    "        da_prev_pad = dA_prev_pad[i]\n",
    "        \n",
    "        for h in range(n_H):                 # Çıkış  dikey ekseni üzerinde döngü             \n",
    "            for w in range(n_W):             # Çıkış  yatay ekseni üzerinde döngü   \n",
    "                for c in range(n_C):         # Çıkış  filtre ekseni üzerinde döngü\n",
    "                    \n",
    "                   \n",
    "                    # Mevcut \"dilimin\" köşelerini bulun (lines = 4)\n",
    "                    vert_start = h\n",
    "                    vert_end = vert_start + f\n",
    "                    horiz_start = w\n",
    "                    horiz_end = horiz_start + f\n",
    "                    \n",
    "                   \n",
    "                    # A_prev_pad'in (3D) dilimini tanımlamak için köşeleri kullanın (Hücrenin yukarısındaki İpucu). (≈1 Lines)\n",
    "                    a_slice = a_prev_pad[vert_start:vert_end, horiz_start:horiz_end, :]\n",
    "\n",
    "                    \n",
    "                    # Yukarıda verilen kod formüllerini kullanarak pencerelerin, filtrenin parametreleri için  güncelleme\n",
    "                    da_prev_pad[vert_start:vert_end, horiz_start:horiz_end, :] += W[:,:,:,c] * dZ[i, h, w, c]\n",
    "                    dW[:,:,:,c] += a_slice * dZ[i, h, w, c]\n",
    "                    db[:,:,:,c] += dZ[i, h, w, c]\n",
    "         \n",
    "         # Eğitim örneğinin dA_prev'ini unpaded da_prev_pad olarak ayarlayın (İpucu: X kullanın [pad: -pad, pad: -pad,:])           \n",
    "        dA_prev[i, :, :, :] = da_prev_pad[pad:-pad, pad:-pad, :]\n",
    "    \n",
    "   \n",
    "    assert(dA_prev.shape == (m, n_H_prev, n_W_prev, n_C_prev))\n",
    "    \n",
    "    return dA_prev, dW, db\n",
    "\n",
    "np.random.seed(1)\n",
    "dA, dW, db = conv_backward(Z, cache_conv)\n",
    "\n",
    "print(\"dA ortalama =\", np.mean(dA))\n",
    "print(\"dW ortalama =\", np.mean(dW))\n",
    "print(\"db ortalama =\", np.mean(db))"
   ]
  },
  {
   "cell_type": "markdown",
   "metadata": {},
   "source": [
    "### Maske = Filtre --- >Maks\n",
    "\"\"\"\n",
    "\n",
    "X'in maksimum girişini tanımlamak için x giriş matrisinden bir maske oluşturur.\n",
    "\n",
    "    Argümanlar:\n",
    "    x - Şekil dizisi (f, f)\n",
    "    Returns:\n",
    "    mask - Pencereyle aynı şekle sahip bir dizi, x'in maksimum girişine karşılık gelen konumda bir True döndürür."
   ]
  },
  {
   "cell_type": "code",
   "execution_count": 8,
   "metadata": {},
   "outputs": [
    {
     "name": "stdout",
     "output_type": "stream",
     "text": [
      "x = [[ 1.62434536 -0.61175641 -0.52817175]\n",
      " [-1.07296862  0.86540763 -2.3015387 ]]\n",
      "maske = [[ True False False]\n",
      " [False False False]]\n"
     ]
    }
   ],
   "source": [
    "def create_mask_from_window(x):\n",
    "  \n",
    "  mask = x == np.max(x)\n",
    "  \n",
    "  return mask\n",
    "\n",
    "#geri yayılımda hata max değerden geleceği için sadece onu True yaptık...\n",
    "np.random.seed(1)\n",
    "x = np.random.randn(2,3)\n",
    "mask = create_mask_from_window(x)\n",
    "\n",
    "print('x =', x)\n",
    "print('maske =', mask)"
   ]
  },
  {
   "cell_type": "markdown",
   "metadata": {},
   "source": [
    "### Ortalama ortaklama\n",
    "\n",
    "Girdi değerini boyut şekli matrisine dağıtır\n",
    "\n",
    "    Argümanlar:\n",
    "    dz - giriş skaleri\n",
    "    şekil - dz değerini dağıtmak istediğimiz çıktı matrisinin şekli (n_H, n_W)\n",
    "    Return:\n",
    "    a - dz değerini dağıttığımız boyut dizisi (n_H, n_W)"
   ]
  },
  {
   "cell_type": "code",
   "execution_count": 9,
   "metadata": {},
   "outputs": [
    {
     "name": "stdout",
     "output_type": "stream",
     "text": [
      "Dağıtılmış değer = [[0.5 0.5]\n",
      " [0.5 0.5]]\n"
     ]
    }
   ],
   "source": [
    "def distribute_value(dz, shape):\n",
    "  \n",
    "   \n",
    "#   Boyutları şekilden al (≈1 Lines)\n",
    "    (n_H, n_W) = shape\n",
    "    \n",
    "   # Matriste dağıtılacak değeri hesaplayın (≈1 Lines)\n",
    "    average = dz / (n_H * n_W)\n",
    "    \n",
    "   \n",
    "     # Her girişin \"ortalama\" değer olduğu bir matris oluşturun (≈1 lines)\n",
    "    a =  np.ones(shape) * average\n",
    "    \n",
    "    return a\n",
    "\n",
    "\n",
    "a = distribute_value(2, (2,2))\n",
    "\n",
    "print('Dağıtılmış değer =', a)"
   ]
  },
  {
   "cell_type": "markdown",
   "metadata": {},
   "source": [
    "### Ortaklama geri yayılım\n",
    "\n",
    "Ortaklama katmanının geriye doğru geçişini uygular\n",
    "\n",
    "    Argümanlar:\n",
    "    dA - havuzlama tabakasının çıktısına göre maliyet gradyanı, A ile aynı şekil\n",
    "    cache - havuz katmanının ileri geçişinden gelen önbellek çıktısı, katmanın girişini ve hparametreleri içerir\n",
    "    mode - kullanmak istediğiniz havuzlama modu (dize (\"maks\" veya \"ortalama\") olarak tanımlanır)\n",
    "    Returns:\n",
    "    dA_prev - havuzlama katmanının girdisine göre maliyet gradyanı, A_prev ile aynı şekil"
   ]
  },
  {
   "cell_type": "code",
   "execution_count": 10,
   "metadata": {},
   "outputs": [],
   "source": [
    "def pool_backward(dA, cache, mode= 'max'):\n",
    "  \n",
    "     # Cache bilgi al (≈1 lines)\n",
    "    (A_prev, hparameters) = cache\n",
    "    \n",
    "    #hparameters'ten bilgileri al\n",
    "    stride = hparameters['stride']\n",
    "    f = hparameters['f']\n",
    "    \n",
    "    # A_prev'in şekli ve dA'nın şekli ((2 lines)\n",
    "    m, n_H_prev, n_W_prev, n_C_prev = A_prev.shape\n",
    "    m, n_H, n_W, n_C = dA.shape\n",
    "    \n",
    "   \n",
    "    dA_prev = np.zeros(A_prev.shape)\n",
    " \n",
    "    for i in range(m):     # train verisini döndür                 \n",
    "        \n",
    "       \n",
    "        a_prev = A_prev[i] # A_prev'den eğitim örneği seçin (≈1 lines)\n",
    "        \n",
    "        for h in range(n_H):        # Çıkış  dikey ekseni üzerinde döngü                 \n",
    "            for w in range(n_W):    # Çıkış  yatay ekseni üzerinde döngü              \n",
    "                for c in range(n_C):# Çıkış  filtre ekseni üzerinde döngü          \n",
    "                    \n",
    "                    # Mevcut \"dilimin\" köşelerini bulun (lines4 )\n",
    "                    vert_start = h\n",
    "                    vert_end = vert_start + f\n",
    "                    horiz_start = w\n",
    "                    horiz_end = horiz_start + f\n",
    "                    \n",
    "                  # Her iki modda da geriye doğru yayılımı hesaplayın\n",
    "                    if mode == \"max\":\n",
    "                        \n",
    "                        \n",
    "                      # A_prev (≈1 lines) öğesinden geçerli dilim tanımlamak için köşeleri ve \"c\" yi kullanın\n",
    "                        a_prev_slice = a_prev[vert_start:vert_end, horiz_start:horiz_end, c]\n",
    "            \n",
    "                        # Maskeyi a_prev_slice'dan oluşturun (line1 satır)\n",
    "                        mask = create_mask_from_window(a_prev_slice)\n",
    "                   \n",
    "                    # DA_prev değerini dA_prev + olarak ayarlayın (maske doğru dA girişiyle çarpılır) (line1 )\n",
    "                        dA_prev[i, vert_start: vert_end, horiz_start: horiz_end, c] += np.multiply(mask, dA[i, h, w, c])\n",
    "                        \n",
    "                    elif mode == \"average\":\n",
    "                        \n",
    "                       \n",
    "                        # A değerini dA'dan alın (≈1 satır\n",
    "                        da = dA[i,h,w,c]\n",
    "                      \n",
    "                        # Filtrenin şeklini f x f olarak tanımlayın (≈1 satır)\n",
    "                        shape = (f,f)\n",
    "                        # Doğru dA_prev dilimini elde etmek için dağıtın. yani da'nın dağıtılmış değerini ekleyin. (≈1 satır)\n",
    "                        dA_prev[i, vert_start: vert_end, horiz_start: horiz_end, c] += distribute_value(da, shape)\n",
    "                            \n",
    " \n",
    "    assert(dA_prev.shape == A_prev.shape)\n",
    "    \n",
    "    return dA_prev"
   ]
  },
  {
   "cell_type": "code",
   "execution_count": 11,
   "metadata": {},
   "outputs": [
    {
     "name": "stdout",
     "output_type": "stream",
     "text": [
      "mod = max\n",
      "dA ortalaması = 2.528325706806398\n",
      "dA_prev[1,1] [[ 0.          0.        ]\n",
      " [ 5.05844394 -1.68282702]\n",
      " [ 0.          0.        ]]\n",
      "\n",
      "mod = average\n",
      "dA ortalaması = 0.14571390272918056\n",
      "dA_prev[1,1] [[ 0.08485462  0.2787552 ]\n",
      " [ 1.26461098 -0.25749373]\n",
      " [ 1.17975636 -0.53624893]]\n"
     ]
    }
   ],
   "source": [
    "#Geriye yayılım ile güncellenen ağırlıklar ve diğer parametreler\n",
    "    \n",
    "\n",
    "np.random.seed(1)\n",
    "\n",
    "A_prev = np.random.randn(5, 5, 3, 2)\n",
    "hparameters = {\"stride\": 1, \"f\":2}\n",
    "A, cache = pool_forward(A_prev, hparameters)\n",
    "dA = np.random.randn(5, 4, 2, 2)\n",
    "\n",
    "dA_prev = pool_backward(dA, cache, mode= \"max\")\n",
    "\n",
    "print(\"mod = max\")\n",
    "print('dA ortalaması =', np.max(dA))\n",
    "print('dA_prev[1,1]', dA_prev[1,1])\n",
    "print()\n",
    "\n",
    "dA_prev = pool_backward(dA, cache, mode= \"average\")\n",
    "\n",
    "print(\"mod = average\")\n",
    "print('dA ortalaması =', np.mean(dA))\n",
    "print('dA_prev[1,1]', dA_prev[1,1])"
   ]
  },
  {
   "cell_type": "code",
   "execution_count": null,
   "metadata": {},
   "outputs": [],
   "source": []
  },
  {
   "cell_type": "code",
   "execution_count": null,
   "metadata": {},
   "outputs": [],
   "source": []
  },
  {
   "cell_type": "code",
   "execution_count": null,
   "metadata": {},
   "outputs": [],
   "source": []
  }
 ],
 "metadata": {
  "kernelspec": {
   "display_name": "Python 3",
   "language": "python",
   "name": "python3"
  },
  "language_info": {
   "codemirror_mode": {
    "name": "ipython",
    "version": 3
   },
   "file_extension": ".py",
   "mimetype": "text/x-python",
   "name": "python",
   "nbconvert_exporter": "python",
   "pygments_lexer": "ipython3",
   "version": "3.7.4"
  }
 },
 "nbformat": 4,
 "nbformat_minor": 2
}
